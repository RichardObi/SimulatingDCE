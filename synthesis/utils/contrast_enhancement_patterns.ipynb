{
 "cells": [
  {
   "cell_type": "code",
   "execution_count": null,
   "metadata": {},
   "outputs": [],
   "source": [
    "import os\n",
    "\n",
    "src_real = \"../data/20240607_JMI/real-20240607T081433Z-001/real\"\n",
    "post_path_synth = \"../data/20240607_JMI/syn-20240607T081131Z-001/syn\"\n",
    "mask_path = \"../data/20240607_JMI/masks/masks/test\"\n",
    "pre_path_real = os.path.join(src_real, \"test_A\", \"test_A\")\n",
    "post_mask_path_real = os.path.join(mask_path, \"test_B\")\n",
    "\n",
    "files, cases = [os.path.splitext(i)[0] for i in sorted(set(os.listdir(post_mask_path_real)))], []\n",
    "for f in files:\n",
    "    f_splits = f.rsplit(\"_\", 4)\n",
    "    cases.append(f_splits[1])\n",
    "s\n",
    "cases = sorted(set(cases))"
   ]
  },
  {
   "cell_type": "markdown",
   "metadata": {},
   "source": [
    "Delete files for mask duplicates"
   ]
  },
  {
   "cell_type": "code",
   "execution_count": null,
   "metadata": {},
   "outputs": [],
   "source": [
    "cases_mask_nr = []\n",
    "for case in cases:\n",
    "    case_files = [i for i in files if f\"_{case}_\" in i]\n",
    "    mask_nr = set()\n",
    "    for case_file in case_files: \n",
    "        mask_nr.add(case_file.rsplit(\"_\", 3)[1])\n",
    "    cases_mask_nr.append(list(mask_nr))\n",
    "# cases_mask_nr\n",
    "\n",
    "for case in cases:\n",
    "    case_files = [i for i in files if f\"_{case}_\" in i]\n",
    "    for case_file in case_files: \n",
    "        if case_file.rsplit(\"_\", 3)[1] == \"0002\":\n",
    "            os.remove(os.path.join(post_mask_path_real, f\"{case_file}.png\"))"
   ]
  },
  {
   "cell_type": "markdown",
   "metadata": {},
   "source": [
    "Rename files for the real phases"
   ]
  },
  {
   "cell_type": "code",
   "execution_count": null,
   "metadata": {},
   "outputs": [],
   "source": [
    "for i in range(3):\n",
    "    real_phase_path = os.path.join(src_real, f\"phase{i+1}\", f\"phase{i+1}\")\n",
    "    real_files = os.listdir(real_phase_path)\n",
    "    for file in real_files:\n",
    "        os.rename(os.path.join(real_phase_path, file), os.path.join(real_phase_path, file.replace(\"_CONCAT\", \"\").replace(\"_removed\", \"\")))"
   ]
  },
  {
   "cell_type": "markdown",
   "metadata": {},
   "source": [
    "Calculate intensities"
   ]
  },
  {
   "cell_type": "code",
   "execution_count": null,
   "metadata": {},
   "outputs": [],
   "source": [
    "from PIL import Image\n",
    "import numpy as np \n",
    "import pandas as pd\n",
    "from sklearn.metrics import mean_squared_error\n",
    "\n",
    "width, height = 512, 512\n",
    "phases, data_intensity, data_mse = [\"0000\", \"0001\", \"0002\", \"0003\"], [], []\n",
    "for c in cases: \n",
    "    slices = sorted(set([i.rsplit(\"_\", 2)[2].replace(\"mask\", \"\") for i in  [j for j in files if f\"_{c}_\" in j]]))\n",
    "    \n",
    "    for ph in phases: \n",
    "        phase_slices_real_mean, phase_slices_synth_mean, phase_slices_real_std, phase_slices_synth_std, phase_slices_real_norm_mean, phase_slices_synth_norm_mean  = [], [], [], [], [], []\n",
    "        phase_slices_mse_real_post_synth_post, phase_slices_mse_real_post_real_pre = [], []\n",
    "        for s in slices:\n",
    "            mask = Image.open(os.path.join(post_mask_path_real, f\"Breast_MRI_{c}_0001_0001_mask{s}.png\"))\n",
    "            if np.array(mask).size and np.count_nonzero(np.array(mask)):\n",
    "                if ph == \"0000\":\n",
    "                    slice_pre_real = Image.open(os.path.join(pre_path_real, f\"Breast_MRI_{c}_{ph}_slice{s}.png\"))\n",
    "                    \n",
    "                    slice_pre_real_tumor = np.array(slice_pre_real)[np.array(mask) != 0]\n",
    "                    slice_pre_real_non_tumor = np.array(slice_pre_real)[np.array(mask) == 0]\n",
    "                    \n",
    "                    phase_slices_real_mean.append(np.mean(slice_pre_real_tumor))\n",
    "                    phase_slices_real_std.append(np.std(slice_pre_real_tumor))\n",
    "                    phase_slices_real_norm_mean.append(np.mean(slice_pre_real_tumor)/np.mean(slice_pre_real_non_tumor))\n",
    "                else:\n",
    "                    slice_post_real = Image.open(os.path.join(src_real, f\"phase{ph[-1]}\", f\"phase{ph[-1]}\", f\"Breast_MRI_{c}_{ph}_slice{s}.png\"))\n",
    "                    slice_post_synth = Image.open(os.path.join(post_path_synth, f\"phase{ph[-1]}\", f\"phase{ph[-1]}\", f\"Breast_MRI_{c}_0000_{ph}_slice{s}.jpg\")).convert('L')\n",
    "                    \n",
    "                    slice_post_real_tumor = np.array(slice_post_real)[np.array(mask) != 0]\n",
    "                    slice_post_synth_tumor = np.array(slice_post_synth)[np.array(mask) != 0]\n",
    "                    slice_post_real_non_tumor = np.array(slice_post_real)[np.array(mask) == 0]\n",
    "                    slice_post_synth_non_tumor = np.array(slice_post_synth)[np.array(mask) == 0]\n",
    "                    \n",
    "                    phase_slices_real_mean.append(np.mean(slice_post_real_tumor))\n",
    "                    phase_slices_synth_mean.append(np.mean(slice_post_synth_tumor))\n",
    "                    phase_slices_real_std.append(np.std(slice_post_real_tumor))\n",
    "                    phase_slices_synth_std.append(np.std(slice_post_synth_tumor))\n",
    "                    phase_slices_real_norm_mean.append(np.mean(slice_post_real_tumor)/np.mean(slice_post_real_non_tumor))\n",
    "                    phase_slices_synth_norm_mean.append(np.mean(slice_post_synth_tumor)/np.mean(slice_post_synth_non_tumor))\n",
    "\n",
    "                    # MSE\n",
    "                    phase_slices_mse_real_post_synth_post.append(mean_squared_error(slice_post_real_tumor, slice_post_synth_tumor))\n",
    "\n",
    "                    slice_pre_real = Image.open(os.path.join(pre_path_real, f\"Breast_MRI_{c}_0000_slice{s}.png\"))\n",
    "                    slice_pre_real_tumor = np.array(slice_pre_real)[np.nonzero(np.array(mask))]\n",
    "                    phase_slices_mse_real_post_real_pre.append(mean_squared_error(slice_post_real_tumor, slice_pre_real_tumor))\n",
    "\n",
    "        if phase_slices_real_mean:   \n",
    "            phase = \"Pre-contrast\" if ph == \"0000\" else int(ph)\n",
    "            data_intensity.append([c, phase, np.mean(phase_slices_real_mean), np.mean(phase_slices_real_std), np.mean(phase_slices_real_norm_mean), np.std(phase_slices_real_norm_mean), \"Real\"])\n",
    "            if ph != \"0000\":\n",
    "                data_intensity.append([c, int(ph), np.mean(phase_slices_synth_mean), np.mean(phase_slices_synth_std), np.mean(phase_slices_synth_norm_mean), np.std(phase_slices_synth_norm_mean), \"Synthetic\"])\n",
    "                \n",
    "                data_mse.append([c, int(ph), np.mean(phase_slices_mse_real_post_synth_post), np.std(phase_slices_mse_real_post_synth_post), \"Real post-contr. vs. Synthetic post-contr.\"])\n",
    "                data_mse.append([c, int(ph), np.mean(phase_slices_mse_real_post_real_pre), np.std(phase_slices_mse_real_post_real_pre), \"Real post-contr. vs. Real pre-contr.\"])\n",
    "\n",
    "df_intensity = pd.DataFrame(data_intensity, columns=[\"Breast_MRI\", \"Phase\", \"Mean pixel intensity\", \"Stdev\", \"Normalized mean pixel intensity\", \"Stdev norm\", \"Type\"])\n",
    "df_mse = pd.DataFrame(data_mse, columns=[\"Breast_MRI\", \"Phase\", \"Mean MSE\", \"Standard deviation\", \"Type\"])"
   ]
  },
  {
   "cell_type": "code",
   "execution_count": null,
   "metadata": {},
   "outputs": [],
   "source": [
    "# df_intensity = df_intensity.rename(columns={\"Stdev mean\": \"Stdev\", \"Stdev\": \"Stdev norm\"})\n",
    "# df_intensity"
   ]
  },
  {
   "cell_type": "markdown",
   "metadata": {},
   "source": [
    "Intensity plots"
   ]
  },
  {
   "cell_type": "code",
   "execution_count": null,
   "metadata": {},
   "outputs": [],
   "source": [
    "import matplotlib.pyplot as plt\n",
    "import seaborn as sns\n",
    "\n",
    "palette = [\".85\"] + sns.color_palette(sns.cubehelix_palette(), n_colors=4)\n",
    "fig, ax = plt.subplots(figsize=(21, 7))\n",
    "\n",
    "ax = sns.scatterplot(data=df_intensity, x=\"Breast_MRI\", y=\"Mean pixel intensity\", style=\"Type\", hue=\"Phase\", size=\"Stdev\", sizes=(20, 200), palette=palette, legend=\"brief\") \n",
    "for case, i in zip(df_intensity.Breast_MRI.unique().tolist(), range(len(df_intensity.Breast_MRI.unique().tolist()))):\n",
    "    plt.plot([i, i], [df_intensity[(df_intensity.Breast_MRI==case) & (df_intensity.Phase==1) & (df_intensity.Type==\"Real\")][\"Mean pixel intensity\"].values[0], df_intensity[(df_intensity.Breast_MRI==case) & (df_intensity.Phase==1) & (df_intensity.Type==\"Synthetic\")][\"Mean pixel intensity\"].values[0]], \n",
    "             linewidth=1, color=palette[1], zorder=0)\n",
    "    \n",
    "handles, lables = ax.get_legend_handles_labels()\n",
    "for h in handles[0:6]+handles[12:]:\n",
    "    h.set_markersize(10)\n",
    "lgnd = plt.legend(handles, lables, bbox_to_anchor=(1, 1), loc='upper left', borderaxespad=0)\n",
    "\n",
    "sns.set_style(\"ticks\")\n",
    "sns.despine(fig=None, ax=None, top=True, right=True, left=False, bottom=False, offset=None, trim=False)\n",
    "\n",
    "plt.xlabel('Test case', fontsize=14)\n",
    "plt.xticks(rotation=90)\n",
    "plt.ylabel('Mean pixel intensity', fontsize=14)\n",
    "plt.show()\n",
    "# plt.savefig('plots/JMI/20240607_JMI_scatter_real_synthetic_MEAN_INTENSITY_all_phases.png', bbox_inches='tight', dpi=300)"
   ]
  },
  {
   "cell_type": "markdown",
   "metadata": {},
   "source": [
    "MSE plots"
   ]
  },
  {
   "cell_type": "code",
   "execution_count": null,
   "metadata": {},
   "outputs": [],
   "source": [
    "import matplotlib.pyplot as plt\n",
    "import seaborn as sns\n",
    "\n",
    "palette = sns.color_palette(sns.cubehelix_palette(), n_colors=4)\n",
    "fig, ax = plt.subplots(figsize=(21, 7))\n",
    "\n",
    "ax = sns.scatterplot(data=df_mse, x=\"Breast_MRI\", y=\"Mean MSE\", style=\"Type\", hue=\"Phase\", size=\"Standard deviation\", sizes=(20, 200), palette=palette, legend=\"brief\") \n",
    "    \n",
    "handles, lables = ax.get_legend_handles_labels()\n",
    "for h in handles[0:6]+handles[12:]:\n",
    "    h.set_markersize(10)\n",
    "lgnd = plt.legend(handles, lables, bbox_to_anchor=(1, 1), loc='upper left', borderaxespad=0)\n",
    "\n",
    "sns.set_style(\"ticks\")\n",
    "sns.despine(fig=None, ax=None, top=True, right=True, left=False, bottom=False, offset=None, trim=False)\n",
    "\n",
    "plt.xlabel('Test case', fontsize=14)\n",
    "plt.xticks(rotation=90)\n",
    "plt.ylabel('Mean Squared Error (MSE) in the tumor area', fontsize=14)\n",
    "plt.show()\n",
    "# plt.savefig('plots/JMI/20240607_JMI_scatter_MSE_all_phases.png', bbox_inches='tight', dpi=300)"
   ]
  },
  {
   "cell_type": "markdown",
   "metadata": {},
   "source": [
    "A plot with y-axis = mean intensity value, x-axis = phase in range [1,4] and visualized are for each phase accumulated over cases:  \n",
    "a) real postcontrast mean intensity value as point (circle size=stdev)  \n",
    "b) syn postcontrast mean intensity value as point (circle size=stdev)  \n",
    "c) real pre-contrast mean intensity value (circle size = stdev).  \n",
    "\n",
    "The circles from (c) will be in a straight line below the other two curves from (a) and (b)."
   ]
  },
  {
   "cell_type": "code",
   "execution_count": null,
   "metadata": {},
   "outputs": [],
   "source": [
    "df_intensity_all = df_intensity.drop(columns=[\"Breast_MRI\", \"Normalized mean pixel intensity\", \"Stdev norm\"])\n",
    "\n",
    "df_a = df_intensity_all[(df_intensity_all.Phase != \"Pre-contrast\") & (df_intensity_all.Type == \"Real\")].drop(columns=[\"Type\"])\n",
    "a = df_a.groupby(by=\"Phase\").mean()\n",
    "if \"Phase\" not in a.columns:\n",
    "    a[\"Phase\"] = a.index.values\n",
    "    a[\"Type\"] = a.shape[0]*[\"Real\"]\n",
    "\n",
    "df_b = df_intensity_all[(df_intensity_all.Phase != \"Pre-contrast\") & (df_intensity_all.Type == \"Synthetic\")].drop(columns=[\"Type\"])\n",
    "b = df_b.groupby(by=\"Phase\").mean()\n",
    "if \"Phase\" not in b.columns:\n",
    "    b[\"Phase\"] = b.index.values\n",
    "    b[\"Type\"] = b.shape[0]*[\"Synthetic\"]\n",
    "\n",
    "df = pd.concat([a, b], ignore_index=True)\n",
    "\n",
    "df_pre = df_intensity_all[(df_intensity_all.Phase == \"Pre-contrast\")].drop(columns=[\"Type\"]).groupby(by=\"Phase\").mean()\n",
    "df_pre_ = pd.DataFrame(np.repeat(df_pre.values, 3, axis=0))\n",
    "df_pre_.columns = df_pre.columns\n",
    "df_pre_[\"Phase\"] = list(range(1, 4))"
   ]
  },
  {
   "cell_type": "code",
   "execution_count": null,
   "metadata": {},
   "outputs": [],
   "source": [
    "import matplotlib.pyplot as plt\n",
    "import seaborn as sns\n",
    "\n",
    "palette = [\".85\"] + sns.color_palette(sns.cubehelix_palette(), n_colors=4)\n",
    "fig, ax = plt.subplots(figsize=(7, 4))\n",
    "\n",
    "ax = sns.scatterplot(data=df, x=\"Phase\", y=\"Mean pixel intensity\", hue= \"Phase\", style=\"Type\", size=\"Stdev\", sizes=(50, 500), legend=False)\n",
    "ax = sns.scatterplot(data=df_pre_, x=\"Phase\", y=\"Mean pixel intensity\", color = \"0.55\", size=\"Stdev\", sizes=(50, 500), legend=False)\n",
    "ax.annotate(\"Real Pre-contrast\", (2.4, 35.5), color=\"0.55\", size=14) # (3.2, 4.12)\n",
    "ax.annotate(\"Real Post-contrast\", (1.1, 46), color=palette[3], size=14) # (1.5, 6.1)\n",
    "ax.annotate(\"Synthetic Post-contrast\", (1.6, 41), color=palette[3], size=14) # (2, 4.9)\n",
    "\n",
    "for i in range(2):\n",
    "    plt.plot([i+1, i+2], [df[(df.Type==\"Real\") & (df.Phase==i+1)][\"Mean pixel intensity\"].values[0], df[(df.Type==\"Real\") & (df.Phase==i+2)][\"Mean pixel intensity\"].values[0]], \n",
    "             linewidth=4, color=palette[i+1], zorder=0)\n",
    "    plt.plot([i+1, i+2], [df[(df.Type==\"Synthetic\") & (df.Phase==i+1)][\"Mean pixel intensity\"].values[0], df[(df.Type==\"Synthetic\") & (df.Phase==i+2)][\"Mean pixel intensity\"].values[0]], \n",
    "             linewidth=4, color=palette[i+1], zorder=0)\n",
    "    plt.plot([i+1, i+2], [df_pre_[\"Mean pixel intensity\"].unique()[0], df_pre_[\"Mean pixel intensity\"].unique()[0]], \n",
    "             linewidth=3, color=\"0.55\", zorder=0)\n",
    "    \n",
    "\n",
    "ax.set_xticks(list(range(1, 4)))\n",
    "ax.set_xticklabels(['1','2','3'], fontsize=14)\n",
    "ax.set_yticks(np.arange(30, 55, 5).tolist())\n",
    "ax.set_yticklabels([\"30\", \"35\", \"40\",\"45\", \"\"], fontsize=14)\n",
    "\n",
    "sns.set_style(\"ticks\")\n",
    "sns.despine(fig=None, ax=None, top=True, right=True, left=False, bottom=False, offset=None, trim=False)\n",
    "\n",
    "plt.xlabel(\"Post-Contrast Phase\", fontsize=16)\n",
    "plt.ylabel(\"Mean pixel intensity\", fontsize=16)\n",
    "plt.show()\n",
    "# plt.savefig(\"plots/JMI/20240607_JMI_scatter_real_synthetic_INTENSITY_all_phases_accumulated_test_set.png\", bbox_inches='tight', dpi=300)"
   ]
  },
  {
   "cell_type": "markdown",
   "metadata": {},
   "source": [
    "Boxplot and pointplot"
   ]
  },
  {
   "cell_type": "code",
   "execution_count": null,
   "metadata": {},
   "outputs": [],
   "source": [
    "import matplotlib.pyplot as plt\n",
    "import seaborn as sns\n",
    "\n",
    "palette = [\".85\"] + sns.color_palette(sns.cubehelix_palette(), n_colors=4)\n",
    "fig, ax = plt.subplots(figsize=(7, 4))\n",
    "\n",
    "ax = sns.boxplot(data=df_intensity, x=\"Phase\", y=\"Normalized mean pixel intensity\", hue= \"Type\", palette=palette)\n",
    "    \n",
    "plt.setp(ax.get_legend().get_texts(), fontsize='12') # for legend text\n",
    "# plt.setp(ax.get_legend().get_title(), fontsize='32') # for legend title\n",
    "\n",
    "ax.set_xticklabels(['Pre-contrast', '1','2','3'], fontsize=14)\n",
    "ax.set_yticks(np.arange(0, 12, 2).tolist())\n",
    "ax.set_yticklabels(['','2','4','6', '8', '10'], fontsize=14)\n",
    "\n",
    "sns.set_style(\"ticks\")\n",
    "sns.despine(fig=None, ax=None, top=True, right=True, left=False, bottom=False, offset=None, trim=False)\n",
    "\n",
    "plt.xlabel(\"Post-Contrast Phase\", fontsize=16)\n",
    "plt.ylabel(\"Normalized mean pixel intensity\", fontsize=16)\n",
    "plt.show()\n",
    "# plt.savefig(\"plots/JMI/20240607_JMI_boxplot_real_synthetic_NORMALIZED_INTENSITY_all_phases_accumulated_test_set.png\", bbox_inches='tight', dpi=300)"
   ]
  },
  {
   "cell_type": "code",
   "execution_count": null,
   "metadata": {},
   "outputs": [],
   "source": [
    "import matplotlib.pyplot as plt\n",
    "import seaborn as sns\n",
    "\n",
    "palette = [\".85\"] + sns.color_palette(sns.cubehelix_palette(), n_colors=4)\n",
    "fig, ax = plt.subplots(figsize=(7, 4))\n",
    "\n",
    "ax = sns.pointplot(data=df_intensity[df_intensity.Phase!=\"Pre-contrast\"], x=\"Phase\", y=\"Normalized mean pixel intensity\", hue= \"Type\", palette=palette)\n",
    "\n",
    "ax.set_xticklabels(['1','2','3'], fontsize=14)\n",
    "ax.set_yticks(np.arange(3, 5.5, .5).tolist())\n",
    "ax.set_yticklabels(['3.0','3.5','4.0','4.5', '5.0'], fontsize=14)\n",
    "\n",
    "sns.set_style(\"ticks\")\n",
    "sns.despine(fig=None, ax=None, top=True, right=True, left=False, bottom=False, offset=None, trim=False)\n",
    "\n",
    "plt.xlabel(\"Post-Contrast Phase\", fontsize=16)\n",
    "plt.ylabel(\"Normalized mean pixel intensity\", fontsize=16)\n",
    "plt.show()\n",
    "# plt.savefig(\"plots/JMI/20240607_JMI_pointplot_real_synthetic_NORMALIZED_INTENSITY_all_phases_accumulated_test_set.png\", bbox_inches='tight', dpi=300)"
   ]
  }
 ],
 "metadata": {
  "kernelspec": {
   "display_name": "mammoai_internal",
   "language": "python",
   "name": "python3"
  },
  "language_info": {
   "codemirror_mode": {
    "name": "ipython",
    "version": 3
   },
   "file_extension": ".py",
   "mimetype": "text/x-python",
   "name": "python",
   "nbconvert_exporter": "python",
   "pygments_lexer": "ipython3",
   "version": "3.11.5"
  }
 },
 "nbformat": 4,
 "nbformat_minor": 2
}
